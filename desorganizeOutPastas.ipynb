{
 "cells": [
  {
   "cell_type": "code",
   "execution_count": 21,
   "id": "b45e8470",
   "metadata": {},
   "outputs": [],
   "source": [
    "#Importando a biblioteca\n",
    "import os\n",
    "\n",
    "#Pegando o path atual\n",
    "cwd = os.getcwd()\n",
    "\n",
    "#Pegando todos os itens do path da variável cwd\n",
    "full_list = os.listdir(cwd)\n",
    "\n",
    "#Verificando todos itens da lista e se eles tem a terminação .py\n",
    "files_list = [i for i in full_list if os.path.isfile(i) and \".ipynb\" not in i]\n",
    "\n",
    "#Pegando todas as terminações\n",
    "types = list(set([i.split('.')[1] for i in files_list]))\n",
    "\n",
    "for file_type in types:\n",
    "    os.mkdir(file_type)\n",
    "\n",
    "for file in files_list:\n",
    "    from_path = os.path.join(cwd, file)\n",
    "    to_path = os.path.join(cwd, file.split('.')[-1], file)\n",
    "    \n",
    "    os.replace(from_path, to_path)"
   ]
  },
  {
   "cell_type": "code",
   "execution_count": null,
   "id": "aa60f9a5",
   "metadata": {},
   "outputs": [],
   "source": []
  },
  {
   "cell_type": "code",
   "execution_count": 18,
   "id": "3b881004",
   "metadata": {},
   "outputs": [],
   "source": [
    "import os\n",
    "\n",
    "cwd = os.getcwd()\n",
    "\n",
    "folder_list = [i for i in os.listdir(cwd) if os.path.isdir(i)]\n",
    "\n",
    "for folder in folder_list:\n",
    "    path = os.path.join(cwd, folder)\n",
    "    \n",
    "    files = os.listdir(path)\n",
    "    for file in files:\n",
    "        from_path = os.path.join(path, file)\n",
    "        to_path = os.path.join(cwd, file)\n",
    "        os.replace(from_path, to_path)\n",
    "    os.rmdir(path)"
   ]
  },
  {
   "cell_type": "code",
   "execution_count": null,
   "id": "71096070",
   "metadata": {},
   "outputs": [],
   "source": []
  }
 ],
 "metadata": {
  "kernelspec": {
   "display_name": "Python 3 (ipykernel)",
   "language": "python",
   "name": "python3"
  },
  "language_info": {
   "codemirror_mode": {
    "name": "ipython",
    "version": 3
   },
   "file_extension": ".py",
   "mimetype": "text/x-python",
   "name": "python",
   "nbconvert_exporter": "python",
   "pygments_lexer": "ipython3",
   "version": "3.9.7"
  }
 },
 "nbformat": 4,
 "nbformat_minor": 5
}
